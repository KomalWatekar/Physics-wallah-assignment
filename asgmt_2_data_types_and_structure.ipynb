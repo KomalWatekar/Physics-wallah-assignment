{
  "nbformat": 4,
  "nbformat_minor": 0,
  "metadata": {
    "colab": {
      "provenance": []
    },
    "kernelspec": {
      "name": "python3",
      "display_name": "Python 3"
    },
    "language_info": {
      "name": "python"
    }
  },
  "cells": [
    {
      "cell_type": "markdown",
      "source": [
        "# Data types and structures\n"
      ],
      "metadata": {
        "id": "hl0kxguOQ0yO"
      }
    },
    {
      "cell_type": "markdown",
      "source": [
        "## Assignment 2\n",
        "\n",
        "1. What are data structures, and why are they important?    \n",
        "Data structures are ways to organize and store data in a computer so it can be accessed and modified efficiently. They are important because they optimize data management, which affects the performance and scalability of software applications.\n",
        "\n",
        "2. Explain the difference between mutable and immutable data types with examples.   \n",
        "Mutable data types can be changed after they are created (e.g., lists, dictionaries, sets). Immutable data types cannot be changed once created (e.g., strings, tuples, integers).\n",
        "\n",
        "3. What are the main differences between lists and tuples in Python?    \n",
        "Lists are mutable and can be modified after creation, tuples are immutable and cannot be changed. Lists have more built-in methods, while tuples are generally faster and used for fixed collections.\n",
        "\n",
        "4. Describe how dictionaries store data.    \n",
        "Dictionaries store data as key-value pairs using a hash table for fast lookups. Each key hashes to an index where its value is stored.\n",
        "\n",
        "5. Why might you use a set instead of a list in Python?     \n",
        "Sets automatically remove duplicate elements and provide fast membership tests, which is useful when you need uniqueness and fast containment checks.\n",
        "\n",
        "6. What is a string in Python, and how is it different from a list?     \n",
        "A string is a sequence of characters and is immutable. A list is a sequence of elements (which can be different data types) and is mutable.\n",
        "\n",
        "7. How do tuples ensure data integrity in Python?   \n",
        "Because tuples are immutable, their elements cannot be changed after creation, ensuring that the data remains consistent and unmodified.\n",
        "\n",
        "8. What is a hash table, and how does it relate to dictionaries in Python?      \n",
        "A hash table is a data structure that uses a hash function to map keys to positions in an array for efficient lookup. Python dictionaries are implemented internally using hash tables.\n",
        "\n",
        "9. Can lists contain different data types in Python?    \n",
        "Yes, lists can contain elements of different data types within the same list.\n",
        "\n",
        "10. Explain why strings are immutable in Python.    \n",
        "Strings are immutable to ensure that hash values are consistent and to allow safe sharing and optimization like interning.\n",
        "\n",
        "11. What advantages do dictionaries offer over lists for certain tasks?     \n",
        "Dictionaries provide fast access to elements via keys, whereas lists require traversal or index access; thus, dictionaries are better for associative arrays and key-based lookup.\n",
        "\n",
        "12. Describe a scenario where using a tuple would be preferable over a list.    \n",
        "When you want to ensure the data does not change (e.g., coordinates, fixed configurations), tuples provide immutability guarantees.\n",
        "\n",
        "13. How do sets handle duplicate values in Python?      \n",
        "Sets automatically discard duplicates; each element is unique.\n",
        "\n",
        "14. How does the \"in\" keyword work differently for lists and dictionaries?      \n",
        "For lists, \"in\" checks for the presence of a value by scanning elements. For dictionaries, \"in\" checks if a key exists (not the value) and is very efficient.\n",
        "\n",
        "15. Can you modify the elements of a tuple? Explain why or why not.     \n",
        "No, tuples are immutable; once created, their elements cannot be modified to maintain data integrity and predictability.\n",
        "\n",
        "16. What is a nested dictionary, and give an example of its use case?   \n",
        "A nested dictionary is a dictionary where values are themselves dictionaries.\n",
        "Example: Storing user profiles with nested details:\n",
        "\n",
        "python\n",
        "users = {\n",
        "  'alice': {'age': 30, 'city': 'NY'},\n",
        "  'bob': {'age': 25, 'city': 'LA'}\n",
        "}\n",
        "17. Describe the time complexity of accessing elements in a dictionary.     \n",
        "Average case is O(1) due to hashing, though worst case can be O(n) if many collisions occur.\n",
        "\n",
        "18. In what situations are lists preferred over dictionaries?   \n",
        "When order matters, you need to store sequences of data, or when duplicate elements are allowed and/or position-based access is needed.\n",
        "\n",
        "19. Why are dictionaries considered unordered, and how does that affect data retrieval?     \n",
        "Prior to Python 3.7, dictionaries did not maintain order. This affects retrieval order but not efficiency. Python 3.7+ maintains insertion order but underlying data retrieval is still by key, not index.\n",
        "\n",
        "20. Explain the difference between a list and a dictionary in terms of data retrieval.      \n",
        "Lists retrieve by position (index), dictionaries by key. Dictionary lookups are generally faster for key-based queries than lists\n",
        "\n",
        "\n",
        "\n"
      ],
      "metadata": {
        "id": "L1iCS3L7RXXi"
      }
    },
    {
      "cell_type": "markdown",
      "source": [
        "## Practical questions"
      ],
      "metadata": {
        "id": "FXmk4yfHZPJ-"
      }
    },
    {
      "cell_type": "code",
      "source": [
        "# 1. Create a string with your name and print it.\n",
        "name = \"komal\"\n",
        "print(name)"
      ],
      "metadata": {
        "colab": {
          "base_uri": "https://localhost:8080/"
        },
        "id": "LXwKLLwjZ6er",
        "outputId": "0377bff7-53d3-435e-ef19-51c487774450"
      },
      "execution_count": 2,
      "outputs": [
        {
          "output_type": "stream",
          "name": "stdout",
          "text": [
            "komal\n"
          ]
        }
      ]
    },
    {
      "cell_type": "code",
      "source": [
        "# 2. Find the length of the string \"Hello World\".\n",
        "print(len(\"Hello World\"))"
      ],
      "metadata": {
        "colab": {
          "base_uri": "https://localhost:8080/"
        },
        "id": "UT6104UHaI1O",
        "outputId": "39c24fe3-3b92-424e-b719-44662066a8ab"
      },
      "execution_count": 3,
      "outputs": [
        {
          "output_type": "stream",
          "name": "stdout",
          "text": [
            "11\n"
          ]
        }
      ]
    },
    {
      "cell_type": "code",
      "source": [
        "# 3. Slice the first 3 characters from \"Python Programming\".\n",
        "print(\"Python Programming\"[:3])"
      ],
      "metadata": {
        "colab": {
          "base_uri": "https://localhost:8080/"
        },
        "id": "Hrkjz-traRGe",
        "outputId": "eb398581-da31-4e68-b1cd-387da2668e8a"
      },
      "execution_count": 4,
      "outputs": [
        {
          "output_type": "stream",
          "name": "stdout",
          "text": [
            "Pyt\n"
          ]
        }
      ]
    },
    {
      "cell_type": "code",
      "source": [
        "# 4. Convert the string \"hello\" to uppercase.\n",
        "print(\"hello\".upper())"
      ],
      "metadata": {
        "colab": {
          "base_uri": "https://localhost:8080/"
        },
        "id": "j6ega8ShaUye",
        "outputId": "545a85f3-14eb-4e8c-d676-700a393b1093"
      },
      "execution_count": 5,
      "outputs": [
        {
          "output_type": "stream",
          "name": "stdout",
          "text": [
            "HELLO\n"
          ]
        }
      ]
    },
    {
      "cell_type": "code",
      "source": [
        "# 5. Replace \"apple\" with \"orange\" in \"I like apple\".\n",
        "print(\"I like apple\".replace(\"apple\", \"orange\"))\n"
      ],
      "metadata": {
        "colab": {
          "base_uri": "https://localhost:8080/"
        },
        "id": "UKWzYZnIacBv",
        "outputId": "3d1d850f-1510-41b2-dab6-41eab83dfba0"
      },
      "execution_count": 6,
      "outputs": [
        {
          "output_type": "stream",
          "name": "stdout",
          "text": [
            "I like orange\n"
          ]
        }
      ]
    },
    {
      "cell_type": "code",
      "source": [
        "# 6. Create a list with numbers 1 to 5 and print it.\n",
        "lst = [1, 2, 3, 4, 5]\n",
        "print(lst)"
      ],
      "metadata": {
        "colab": {
          "base_uri": "https://localhost:8080/"
        },
        "id": "9qWUlb5zazMm",
        "outputId": "93d077e7-7cfa-48f5-d0db-d5a80008afcc"
      },
      "execution_count": 7,
      "outputs": [
        {
          "output_type": "stream",
          "name": "stdout",
          "text": [
            "[1, 2, 3, 4, 5]\n"
          ]
        }
      ]
    },
    {
      "cell_type": "code",
      "source": [
        "# 7. Append the number 10 to the list [1, 2, 3, 4].\n",
        "lst2 = [1, 2, 3, 4]\n",
        "lst2.append(10)\n",
        "print(lst2)"
      ],
      "metadata": {
        "colab": {
          "base_uri": "https://localhost:8080/"
        },
        "id": "-rWQ9j2aa5k4",
        "outputId": "2595e890-8ce2-45c2-bd28-b1c98777fa24"
      },
      "execution_count": 8,
      "outputs": [
        {
          "output_type": "stream",
          "name": "stdout",
          "text": [
            "[1, 2, 3, 4, 10]\n"
          ]
        }
      ]
    },
    {
      "cell_type": "code",
      "source": [
        "# 8. Remove the number 3 from the list [1, 2, 3, 4, 5].\n",
        "lst3 = [1, 2, 3, 4, 5]\n",
        "lst3.remove(3)\n",
        "print(lst3)"
      ],
      "metadata": {
        "colab": {
          "base_uri": "https://localhost:8080/"
        },
        "id": "SkviWUKqa8_5",
        "outputId": "2011044c-c6e0-418e-a619-fecfbfad3840"
      },
      "execution_count": 10,
      "outputs": [
        {
          "output_type": "stream",
          "name": "stdout",
          "text": [
            "[1, 2, 4, 5]\n"
          ]
        }
      ]
    },
    {
      "cell_type": "code",
      "source": [
        "# 9. Access the second element in ['a', 'b', 'c', 'd'].\n",
        "lst4 = ['a', 'b', 'c', 'd']\n",
        "print(lst4[1])"
      ],
      "metadata": {
        "colab": {
          "base_uri": "https://localhost:8080/"
        },
        "id": "bG1_7CWLbDAD",
        "outputId": "5af77455-d276-44b3-c980-04a181d2055b"
      },
      "execution_count": 11,
      "outputs": [
        {
          "output_type": "stream",
          "name": "stdout",
          "text": [
            "b\n"
          ]
        }
      ]
    },
    {
      "cell_type": "code",
      "source": [
        "# 10. Reverse the list [10, 20, 30, 40, 50].\n",
        "lst5 = [10, 20, 30, 40, 50]\n",
        "lst5.reverse()\n",
        "print(lst5)"
      ],
      "metadata": {
        "colab": {
          "base_uri": "https://localhost:8080/"
        },
        "id": "OaGEOPzFbF5X",
        "outputId": "cfbf4a65-e8aa-43f4-f462-95b515ebdf5a"
      },
      "execution_count": 12,
      "outputs": [
        {
          "output_type": "stream",
          "name": "stdout",
          "text": [
            "[50, 40, 30, 20, 10]\n"
          ]
        }
      ]
    },
    {
      "cell_type": "code",
      "source": [
        "# 11. Create a tuple with 100, 200, 300 and print it.\n",
        "tup = (100, 200, 300)\n",
        "print(tup)"
      ],
      "metadata": {
        "colab": {
          "base_uri": "https://localhost:8080/"
        },
        "id": "pmGS4-rebOmS",
        "outputId": "87f9b8ab-c053-44a6-ec21-db4272c4c5ba"
      },
      "execution_count": 13,
      "outputs": [
        {
          "output_type": "stream",
          "name": "stdout",
          "text": [
            "(100, 200, 300)\n"
          ]
        }
      ]
    },
    {
      "cell_type": "code",
      "source": [
        "# 12. Access second-to-last element of ('red', 'green', 'blue', 'yellow').\n",
        "tup2 = ('red', 'green', 'blue', 'yellow')\n",
        "print(tup2[-2])"
      ],
      "metadata": {
        "colab": {
          "base_uri": "https://localhost:8080/"
        },
        "id": "vYw4tYJxbURY",
        "outputId": "d9ed12bc-138b-4274-f862-c8c6306bd48e"
      },
      "execution_count": 14,
      "outputs": [
        {
          "output_type": "stream",
          "name": "stdout",
          "text": [
            "blue\n"
          ]
        }
      ]
    },
    {
      "cell_type": "code",
      "source": [
        "# 13. Find the minimum number in (10, 20, 5, 15).\n",
        "print(min((10, 20, 5, 15)))"
      ],
      "metadata": {
        "colab": {
          "base_uri": "https://localhost:8080/"
        },
        "id": "b7XGMHFmbWvk",
        "outputId": "10395377-ea47-486b-b0a6-555046f40725"
      },
      "execution_count": 15,
      "outputs": [
        {
          "output_type": "stream",
          "name": "stdout",
          "text": [
            "5\n"
          ]
        }
      ]
    },
    {
      "cell_type": "code",
      "source": [
        "# 14. Find the index of \"cat\" in ('dog', 'cat', 'rabbit').\n",
        "print(('dog', 'cat', 'rabbit').index(\"cat\"))"
      ],
      "metadata": {
        "colab": {
          "base_uri": "https://localhost:8080/"
        },
        "id": "brjcE3hqbaW7",
        "outputId": "2b64e5e9-54d1-4643-8094-3673f9cc1e55"
      },
      "execution_count": 16,
      "outputs": [
        {
          "output_type": "stream",
          "name": "stdout",
          "text": [
            "1\n"
          ]
        }
      ]
    },
    {
      "cell_type": "code",
      "source": [
        "# 15. Create a tuple of three fruits and check if \"kiwi\" is in it.\n",
        "fruit_tup = (\"apple\", \"banana\", \"cherry\")\n",
        "print(\"kiwi\" in fruit_tup)"
      ],
      "metadata": {
        "colab": {
          "base_uri": "https://localhost:8080/"
        },
        "id": "3FV7utcabcqv",
        "outputId": "02d6483b-78bd-48ab-9f7b-3fb6c3cf5d34"
      },
      "execution_count": 17,
      "outputs": [
        {
          "output_type": "stream",
          "name": "stdout",
          "text": [
            "False\n"
          ]
        }
      ]
    },
    {
      "cell_type": "code",
      "source": [
        "# 16. Create a set with 'a', 'b', 'c' and print it.\n",
        "s = {'a', 'b', 'c'}\n",
        "print(s)"
      ],
      "metadata": {
        "colab": {
          "base_uri": "https://localhost:8080/"
        },
        "id": "mDqD9JuubgQL",
        "outputId": "b094121b-6f3e-4a53-a716-0fe7e624eb68"
      },
      "execution_count": 18,
      "outputs": [
        {
          "output_type": "stream",
          "name": "stdout",
          "text": [
            "{'c', 'a', 'b'}\n"
          ]
        }
      ]
    },
    {
      "cell_type": "code",
      "source": [
        "# 17. Clear all elements from {1, 2, 3, 4, 5}.\n",
        "set1 = {1, 2, 3, 4, 5}\n",
        "set1.clear()\n",
        "print(set1)"
      ],
      "metadata": {
        "colab": {
          "base_uri": "https://localhost:8080/"
        },
        "id": "tyYd20GfbjrA",
        "outputId": "7a721d30-af57-4ed6-fb2d-971fe87721b3"
      },
      "execution_count": 19,
      "outputs": [
        {
          "output_type": "stream",
          "name": "stdout",
          "text": [
            "set()\n"
          ]
        }
      ]
    },
    {
      "cell_type": "code",
      "source": [
        "# 18. Remove element 4 from {1, 2, 3, 4}.\n",
        "set2 = {1, 2, 3, 4}\n",
        "set2.remove(4)\n",
        "print(set2)"
      ],
      "metadata": {
        "colab": {
          "base_uri": "https://localhost:8080/"
        },
        "id": "1VQDgCoYb-dO",
        "outputId": "42a8d6af-165d-4eb9-c3a1-ba12b6369765"
      },
      "execution_count": 20,
      "outputs": [
        {
          "output_type": "stream",
          "name": "stdout",
          "text": [
            "{1, 2, 3}\n"
          ]
        }
      ]
    },
    {
      "cell_type": "code",
      "source": [
        "# 19. Find the union of {1, 2, 3} and {3, 4, 5}.\n",
        "print({1, 2, 3} | {3, 4, 5})"
      ],
      "metadata": {
        "colab": {
          "base_uri": "https://localhost:8080/"
        },
        "id": "Qrj0chzfcGhs",
        "outputId": "d2f34b7d-887d-44b4-8712-d32e88907605"
      },
      "execution_count": 21,
      "outputs": [
        {
          "output_type": "stream",
          "name": "stdout",
          "text": [
            "{1, 2, 3, 4, 5}\n"
          ]
        }
      ]
    },
    {
      "cell_type": "code",
      "source": [
        "# 20. Find the intersection of {1, 2, 3} and {2, 3, 4}.\n",
        "print({1, 2, 3} & {2, 3, 4})"
      ],
      "metadata": {
        "colab": {
          "base_uri": "https://localhost:8080/"
        },
        "id": "i9Vng_gCcWxN",
        "outputId": "a82b49f5-bf96-417a-d8b9-f4ac8eb3cdf9"
      },
      "execution_count": 22,
      "outputs": [
        {
          "output_type": "stream",
          "name": "stdout",
          "text": [
            "{2, 3}\n"
          ]
        }
      ]
    },
    {
      "cell_type": "code",
      "source": [
        "# 21. Create a dictionary with keys \"name\", \"age\", \"city\" and print it.\n",
        "d = {\"name\": \"Alice\", \"age\": 30, \"city\": \"Paris\"}\n",
        "print(d)"
      ],
      "metadata": {
        "colab": {
          "base_uri": "https://localhost:8080/"
        },
        "id": "H5LskBF9caYn",
        "outputId": "71f0c931-ca0a-4ec2-b25d-7f3724a76bd2"
      },
      "execution_count": 23,
      "outputs": [
        {
          "output_type": "stream",
          "name": "stdout",
          "text": [
            "{'name': 'Alice', 'age': 30, 'city': 'Paris'}\n"
          ]
        }
      ]
    },
    {
      "cell_type": "code",
      "source": [
        "# 22. Add \"country\": \"USA\" to {'name': 'John', 'age': 25}.\n",
        "d2 = {'name': 'John', 'age': 25}\n",
        "d2[\"country\"] = \"USA\"\n",
        "print(d2)"
      ],
      "metadata": {
        "colab": {
          "base_uri": "https://localhost:8080/"
        },
        "id": "mftuN9HvcdPc",
        "outputId": "fd0ae13c-41af-4ddb-d096-0ffc7bf598cb"
      },
      "execution_count": 24,
      "outputs": [
        {
          "output_type": "stream",
          "name": "stdout",
          "text": [
            "{'name': 'John', 'age': 25, 'country': 'USA'}\n"
          ]
        }
      ]
    },
    {
      "cell_type": "code",
      "source": [
        "# 23. Access the value for key \"name\" in {'name': 'Alice', 'age': 30}.\n",
        "print({'name': 'Alice', 'age': 30}[\"name\"])"
      ],
      "metadata": {
        "colab": {
          "base_uri": "https://localhost:8080/"
        },
        "id": "hPnjJ8wAcgPO",
        "outputId": "6db78fd4-9cad-4618-c7d0-26de8978da5b"
      },
      "execution_count": 25,
      "outputs": [
        {
          "output_type": "stream",
          "name": "stdout",
          "text": [
            "Alice\n"
          ]
        }
      ]
    },
    {
      "cell_type": "code",
      "source": [
        "# 24. Remove the key \"age\" from {'name': 'Bob', 'age': 22, 'city': 'New York'}.\n",
        "d3 = {'name': 'Bob', 'age': 22, 'city': 'New York'}\n",
        "del d3[\"age\"]\n",
        "print(d3)"
      ],
      "metadata": {
        "colab": {
          "base_uri": "https://localhost:8080/"
        },
        "id": "kPS_SmYzcixv",
        "outputId": "28290cae-19d3-4ba0-b483-4bc779bea420"
      },
      "execution_count": 26,
      "outputs": [
        {
          "output_type": "stream",
          "name": "stdout",
          "text": [
            "{'name': 'Bob', 'city': 'New York'}\n"
          ]
        }
      ]
    },
    {
      "cell_type": "code",
      "source": [
        "# 25. Check if key \"city\" exists in {'name': 'Alice', 'city': 'Paris'}.\n",
        "print(\"city\" in {'name': 'Alice', 'city': 'Paris'})"
      ],
      "metadata": {
        "colab": {
          "base_uri": "https://localhost:8080/"
        },
        "id": "arRHg9RMc5mi",
        "outputId": "998fc177-6fd7-4cfa-ab17-91b57a94487a"
      },
      "execution_count": 27,
      "outputs": [
        {
          "output_type": "stream",
          "name": "stdout",
          "text": [
            "True\n"
          ]
        }
      ]
    },
    {
      "cell_type": "code",
      "source": [
        "# 26. Create a list, tuple, and dictionary, then print them.\n",
        "lst6 = [1, 2, 3]\n",
        "tup3 = (4, 5, 6)\n",
        "d4 = {\"a\": 1, \"b\": 2}\n",
        "print(lst6, tup3, d4)"
      ],
      "metadata": {
        "colab": {
          "base_uri": "https://localhost:8080/"
        },
        "id": "t9rG8vIec9Zh",
        "outputId": "5866a738-a285-43b8-fdb6-b720a0668ab5"
      },
      "execution_count": 28,
      "outputs": [
        {
          "output_type": "stream",
          "name": "stdout",
          "text": [
            "[1, 2, 3] (4, 5, 6) {'a': 1, 'b': 2}\n"
          ]
        }
      ]
    },
    {
      "cell_type": "code",
      "source": [
        "# 27. Create a list of 5 random numbers between 1 and 100, sort and print it.\n",
        "import random\n",
        "rand_lst = [random.randint(1, 100) for _ in range(5)]\n",
        "rand_lst.sort()\n",
        "print(rand_lst)"
      ],
      "metadata": {
        "colab": {
          "base_uri": "https://localhost:8080/"
        },
        "id": "FE1I9PmmdAhI",
        "outputId": "e9b9850a-b2c4-4418-c439-b096675d928b"
      },
      "execution_count": 29,
      "outputs": [
        {
          "output_type": "stream",
          "name": "stdout",
          "text": [
            "[33, 64, 71, 79, 83]\n"
          ]
        }
      ]
    },
    {
      "cell_type": "code",
      "source": [
        "# 28. Create a list of strings and print the element at index 3.\n",
        "str_lst = [\"apple\", \"banana\", \"cherry\", \"date\", \"elderberry\"]\n",
        "print(str_lst[3])"
      ],
      "metadata": {
        "colab": {
          "base_uri": "https://localhost:8080/"
        },
        "id": "7M1Y2R-mdDB_",
        "outputId": "90062c63-0c41-4d3c-a53e-65616ee22530"
      },
      "execution_count": 30,
      "outputs": [
        {
          "output_type": "stream",
          "name": "stdout",
          "text": [
            "date\n"
          ]
        }
      ]
    },
    {
      "cell_type": "code",
      "source": [
        "# 29. Combine two dictionaries and print the result.\n",
        "dict1 = {\"a\": 1, \"b\": 2}\n",
        "dict2 = {\"b\": 3, \"c\": 4}\n",
        "combined = {**dict1, **dict2}\n",
        "print(combined)"
      ],
      "metadata": {
        "colab": {
          "base_uri": "https://localhost:8080/"
        },
        "id": "vPCsRqc1dGVg",
        "outputId": "ad810e0d-4452-4ae2-dca1-06bc31b40912"
      },
      "execution_count": 31,
      "outputs": [
        {
          "output_type": "stream",
          "name": "stdout",
          "text": [
            "{'a': 1, 'b': 3, 'c': 4}\n"
          ]
        }
      ]
    },
    {
      "cell_type": "code",
      "source": [
        "# 30. Convert a list of strings into a set.\n",
        "list_strings = [\"apple\", \"banana\", \"apple\", \"cherry\"]\n",
        "set_strings = set(list_strings)\n",
        "print(set_strings)"
      ],
      "metadata": {
        "colab": {
          "base_uri": "https://localhost:8080/"
        },
        "id": "XDglLMD5dJCq",
        "outputId": "18aea2fd-eb75-41e4-9644-abe6269ac93c"
      },
      "execution_count": 32,
      "outputs": [
        {
          "output_type": "stream",
          "name": "stdout",
          "text": [
            "{'banana', 'apple', 'cherry'}\n"
          ]
        }
      ]
    },
    {
      "cell_type": "code",
      "source": [],
      "metadata": {
        "id": "H1SITT-tdQwE"
      },
      "execution_count": null,
      "outputs": []
    }
  ]
}