{
  "nbformat": 4,
  "nbformat_minor": 0,
  "metadata": {
    "colab": {
      "provenance": []
    },
    "kernelspec": {
      "name": "python3",
      "display_name": "Python 3"
    },
    "language_info": {
      "name": "python"
    }
  },
  "cells": [
    {
      "cell_type": "markdown",
      "source": [
        "#PYTHON BASICS ASSIGNMENT\n",
        "\n",
        "---\n",
        "\n",
        "\n",
        "## Therotical\n",
        "\n",
        "\n",
        "1. What is Python, and why is it popular?   \n",
        "Python is a high-level, interpreted programming language known for its readability and versatility. It supports multiple programming paradigms, including object-oriented, procedural, and functional programming.\n",
        "Popularity reasons:  \n",
        " -Simple, readable syntax resembling natural language.  \n",
        " -Extensive standard library and third-party modules.  \n",
        " -Versatility for web development, data science, AI, automation, and more.  \n",
        " -Large community support and abundant learning resources.  \n",
        "Cross-platform compatibility.\n",
        "\n",
        "\n",
        "2. What is an interpreter in Python?    \n",
        "An interpreter is a program that executes Python code line by line, translating it into machine code at runtime. Unlike compilers, which translate entire programs before execution, Python’s interpreter processes code directly, enabling immediate execution and debugging but slower performance for large programs.\n",
        "\n",
        "3. What are pre-defined keywords in Python?     \n",
        "Pre-defined keywords are reserved words in Python with specific meanings and purposes, used to define the syntax and structure of the language. Examples include if, else, for, while, def, class, return, True, False, and None. They cannot be redefined or used for other purposes.\n",
        "\n",
        "4. Can keywords be used as variable names?  \n",
        "No, keywords cannot be used as variable names. They are reserved for specific syntactic roles in Python. Attempting to use a keyword (e.g., if or class) as a variable name will result in a syntax error.\n",
        "\n",
        "5. What is mutability in Python?    \n",
        "Mutability refers to an object’s ability to have its internal state (data) modified after creation. Mutable objects, like lists and dictionaries, can be changed in place, while immutable objects, like tuples and strings, cannot be altered once created.\n",
        "\n",
        "6. Why are lists mutable, but tuples are immutable?  \n",
        "Lists: Designed for flexibility, lists are mutable to allow dynamic modifications (e.g., appending, removing, or changing elements). This suits scenarios requiring frequent updates, like data manipulation.  \n",
        "Tuples: Immutable to ensure data integrity and safety, often used for fixed collections of items (e.g., coordinates or database records). Immutability also makes tuples slightly more memory-efficient and usable as dictionary keys.\n",
        "\n",
        "7. What is the difference between \"==\" and \"is\" operators in Python?    \n",
        "==: Checks for value equality, comparing the values of two objects.\n",
        "Example: [1, 2] == [1, 2] returns True because the values are the same.  \n",
        "is: Checks for identity equality, verifying if two variables refer to the same object in memory.\n",
        "Example: a = [1, 2]; b = a; a is b returns True, but a = [1, 2]; b = [1, 2]; a is b returns False because they are different objects.\n",
        "\n",
        "8. What are logical operators in Python?    \n",
        "Logical operators are used to combine conditional statements:  \n",
        "and: Returns True if both operands are true.  \n",
        "or: Returns True if at least one operand is true.  \n",
        "not: Returns the opposite boolean value of the operand.\n",
        "Example: x = 5; (x > 3 and x < 10) returns True.\n",
        "\n",
        "9. What is type casting in Python?  \n",
        "Type casting is the process of converting one data type to another, such as converting an integer to a float or a string to an integer. Python provides built-in functions like int(), float(), str(), and list() for type casting.\n",
        "\n",
        "10. What is the difference between implicit and explicit type casting?  \n",
        "Implicit type casting: Automatically performed by Python when mixing compatible data types in operations.\n",
        "Example: x = 5; y = 2.0; z = x + y results in z being a float (7.0) without explicit conversion.  \n",
        "Explicit type casting: Manually converting a data type using functions like int(), float(), or str().\n",
        "Example: x = \"5\"; y = int(x) converts the string \"5\" to the integer 5.\n",
        "\n",
        "11. What is the purpose of conditional statements in Python?    \n",
        "Conditional statements (if, elif, else) allow a program to execute different blocks of code based on specific conditions. They enable decision-making, controlling the flow of execution depending on whether conditions evaluate to True or False.\n",
        "\n",
        "12. How does the elif statement work?   \n",
        "The elif (else if) statement is used after an if statement to check additional conditions if the previous ones are False. It executes its code block only if its condition is True and all preceding conditions are False.\n",
        "Example:  \n",
        "python\n",
        "x = 10\n",
        "if x < 5:\n",
        "    print(\"Small\")\n",
        "elif x < 15:\n",
        "    print(\"Medium\")  # Outputs \"Medium\"\n",
        "else:\n",
        "    print(\"Large\")\n",
        "\n",
        "13. What is the difference between for and while loops?  \n",
        "For loop: Iterates over a sequence (e.g., list, string, or range) a fixed number of times, ideal for known iteration counts.\n",
        "Example: for i in range(5): print(i) iterates 0 to 4.  \n",
        "While loop: Repeats as long as a condition is True, suitable for indefinite or condition-based iterations.\n",
        "Example: x = 0; while x < 5: print(x); x += 1 iterates until x reaches 5.\n",
        "\n",
        "14. Describe a scenario where a while loop is more suitable than a for loop.    \n",
        "A while loop is more suitable when the number of iterations is unknown and depends on a dynamic condition.\n",
        "Scenario: Reading user input until a specific value is entered, like a password.\n",
        "Example:  \n",
        "python\n",
        "password = \"\"\n",
        "while password != \"secret\":\n",
        "    password = input(\"Enter password: \")\n",
        "print(\"Access granted\")\n",
        "A for loop wouldn’t work here because the number of attempts isn’t predetermined.\n"
      ],
      "metadata": {
        "id": "9g8ZDhdvgxIb"
      }
    },
    {
      "cell_type": "markdown",
      "source": [
        "## practical questions"
      ],
      "metadata": {
        "id": "-4TvSeSV54Sb"
      }
    },
    {
      "cell_type": "code",
      "source": [
        "#1 print hello world\n",
        "print(\"hello world\")"
      ],
      "metadata": {
        "colab": {
          "base_uri": "https://localhost:8080/"
        },
        "id": "lxQvr6yH6SRc",
        "outputId": "bab34d48-f574-419b-ffe1-c6b510625d0d"
      },
      "execution_count": 1,
      "outputs": [
        {
          "output_type": "stream",
          "name": "stdout",
          "text": [
            "hello world\n"
          ]
        }
      ]
    },
    {
      "cell_type": "code",
      "source": [
        "#2. Write a Python program that displays your name and age.\n",
        "name = (\"KOMAL\")\n",
        "age = (\"25\")\n",
        "print(name)\n",
        "print(age)"
      ],
      "metadata": {
        "colab": {
          "base_uri": "https://localhost:8080/"
        },
        "id": "wtfmf3M-69vz",
        "outputId": "2f29cb75-bdc1-4fbd-bafc-dd012f6e62a2"
      },
      "execution_count": 3,
      "outputs": [
        {
          "output_type": "stream",
          "name": "stdout",
          "text": [
            "KOMAL\n",
            "25\n"
          ]
        }
      ]
    },
    {
      "cell_type": "code",
      "source": [
        "#3. Write code to print all the pre-defined keywords in Python using the keyword library.\n",
        "\n",
        "import keyword\n",
        "print(\"python keywords: \", keyword.kwlist)"
      ],
      "metadata": {
        "colab": {
          "base_uri": "https://localhost:8080/"
        },
        "id": "eBatGLGG7Lsz",
        "outputId": "a54c6191-8075-425c-d7e6-776128da442d"
      },
      "execution_count": 7,
      "outputs": [
        {
          "output_type": "stream",
          "name": "stdout",
          "text": [
            "python keywords:  ['False', 'None', 'True', 'and', 'as', 'assert', 'async', 'await', 'break', 'class', 'continue', 'def', 'del', 'elif', 'else', 'except', 'finally', 'for', 'from', 'global', 'if', 'import', 'in', 'is', 'lambda', 'nonlocal', 'not', 'or', 'pass', 'raise', 'return', 'try', 'while', 'with', 'yield']\n"
          ]
        }
      ]
    },
    {
      "cell_type": "code",
      "source": [
        "#4. Write a program that checks if a given ward is a Python keyword.\n",
        "\n",
        "import keyword\n",
        "word = input(\"enter a word: \")\n",
        "if keyword.iskeyword(word):\n",
        "  print(f\"{word} is a python keyword\")\n",
        "else:\n",
        "  print(f\"{word} is not a python keyword\")"
      ],
      "metadata": {
        "colab": {
          "base_uri": "https://localhost:8080/"
        },
        "id": "ohjbVQyQ7w4p",
        "outputId": "9e1af4bf-2337-4bbc-edae-768c96d3581f"
      },
      "execution_count": 12,
      "outputs": [
        {
          "output_type": "stream",
          "name": "stdout",
          "text": [
            "enter a word: False\n",
            "False is a python keyword\n"
          ]
        }
      ]
    },
    {
      "cell_type": "code",
      "source": [
        "#5 Create a list and tuple in Python, and demonstrate how attempting to change an element works differently for each.\n",
        "\n",
        "#creating a list and a tuple\n",
        "mylist=[1,2,3]\n",
        "mytuple=(1,2,3)\n",
        "#attempting to change an element in list\n",
        "print(\"original list:\", mylist)\n",
        "mylist[0]=4\n",
        "print(\"modified list:\", mylist)\n",
        "#attempting to change an element in tuple\n",
        "try:\n",
        "    mytuple[0]=4\n",
        "except TypeError as e:\n",
        "    print(\"tuples are immutable, no modification allowed\")\n",
        "print(\"modified tuple:\", mytuple)\n"
      ],
      "metadata": {
        "colab": {
          "base_uri": "https://localhost:8080/"
        },
        "id": "jEUAvNwc8PcU",
        "outputId": "5b483d07-28ba-4886-e8fb-2eb1b4270958"
      },
      "execution_count": 18,
      "outputs": [
        {
          "output_type": "stream",
          "name": "stdout",
          "text": [
            "original list: [1, 2, 3]\n",
            "modified list: [4, 2, 3]\n",
            "tuples are immutable, no modification allowed\n",
            "modified tuple: (1, 2, 3)\n"
          ]
        }
      ]
    },
    {
      "cell_type": "code",
      "source": [
        "#6 Write a function to demonstrate the behavior of mutable and immutable arguments.\n",
        "\n",
        "\n",
        "def modify_args(immutable_arg, mutable_arg):\n",
        "    # Try modifying immutable argument (integer)\n",
        "    immutable_arg += 10\n",
        "    print(\"Inside function, immutable_arg:\", immutable_arg)\n",
        "\n",
        "    # Modify mutable argument (list)\n",
        "    mutable_arg.append(4)\n",
        "    print(\"Inside function, mutable_arg:\", mutable_arg)\n",
        "\n",
        "# Test the function\n",
        "num = 5\n",
        "my_list = [1, 2, 3]\n",
        "print(\"Before function call - num:\", num, \"my_list:\", my_list)\n",
        "modify_args(num, my_list)\n",
        "print(\"After function call - num:\", num, \"my_list:\", my_list)"
      ],
      "metadata": {
        "colab": {
          "base_uri": "https://localhost:8080/"
        },
        "id": "T-uoYA32-FQI",
        "outputId": "f688cf57-c818-4d4a-9527-a2d2e5643371"
      },
      "execution_count": 20,
      "outputs": [
        {
          "output_type": "stream",
          "name": "stdout",
          "text": [
            "Before function call - num: 5 my_list: [1, 2, 3]\n",
            "Inside function, immutable_arg: 15\n",
            "Inside function, mutable_arg: [1, 2, 3, 4]\n",
            "After function call - num: 5 my_list: [1, 2, 3, 4]\n"
          ]
        }
      ]
    },
    {
      "cell_type": "code",
      "source": [
        "#7 Write a program that performs basic arithmetic operations on two user-input numbers.\n",
        "\n",
        "num1 = float(input(\"Enter first number: \"))\n",
        "num2 = float(input(\"Enter second number: \"))\n",
        "\n",
        "print(f\"Addition: {num1} + {num2} = {num1 + num2}\")\n",
        "print(f\"Subtraction: {num1} - {num2} = {num1 - num2}\")\n",
        "print(f\"Multiplication: {num1} * {num2} = {num1 * num2}\")\n",
        "if num2 != 0:\n",
        "    print(f\"Division: {num1} / {num2} = {num1 / num2}\")\n",
        "else:\n",
        "    print(\"Division: Cannot divide by zero\")"
      ],
      "metadata": {
        "colab": {
          "base_uri": "https://localhost:8080/"
        },
        "id": "db0mMpuUBYhX",
        "outputId": "b3897682-b43d-4cc0-fc34-fec567bbf4cc"
      },
      "execution_count": 21,
      "outputs": [
        {
          "output_type": "stream",
          "name": "stdout",
          "text": [
            "Enter first number: 1\n",
            "Enter second number: 3\n",
            "Addition: 1.0 + 3.0 = 4.0\n",
            "Subtraction: 1.0 - 3.0 = -2.0\n",
            "Multiplication: 1.0 * 3.0 = 3.0\n",
            "Division: 1.0 / 3.0 = 0.3333333333333333\n"
          ]
        }
      ]
    },
    {
      "cell_type": "code",
      "source": [
        "#8 Write a program to demonstrate the use of logical operators\n",
        "\n",
        "a = True\n",
        "b = False\n",
        "\n",
        "print(f\"a = {a}, b = {b}\")\n",
        "print(f\"Logical AND (a and b): {a and b}\")\n",
        "print(f\"Logical OR (a or b): {a or b}\")\n",
        "print(f\"Logical NOT (not a): {not a}\")"
      ],
      "metadata": {
        "colab": {
          "base_uri": "https://localhost:8080/"
        },
        "id": "eey9CB8zBjhI",
        "outputId": "04e5509f-579b-4d7d-aa5d-9055bf59b02f"
      },
      "execution_count": 23,
      "outputs": [
        {
          "output_type": "stream",
          "name": "stdout",
          "text": [
            "a = True, b = False\n",
            "Logical AND (a and b): False\n",
            "Logical OR (a or b): True\n",
            "Logical NOT (not a): False\n"
          ]
        }
      ]
    },
    {
      "cell_type": "code",
      "source": [
        "#9 Write a Python program to convert user input from string to integer, float, and boolean types.\n",
        "\n",
        "\n",
        "# Input as string\n",
        "user_input = input(\"Enter a value (number or true/false): \")\n",
        "\n",
        "# Convert to integer\n",
        "try:\n",
        "    int_value = int(user_input)\n",
        "    print(f\"Integer: {int_value}\")\n",
        "except ValueError:\n",
        "    print(\"Cannot convert to integer\")\n",
        "\n",
        "# Convert to float\n",
        "try:\n",
        "    float_value = float(user_input)\n",
        "    print(f\"Float: {float_value}\")\n",
        "except ValueError:\n",
        "    print(\"Cannot convert to float\")\n",
        "\n",
        "# Convert to boolean\n",
        "if user_input.lower() in (\"true\", \"false\"):\n",
        "    bool_value = user_input.lower() == \"true\"\n",
        "    print(f\"Boolean: {bool_value}\")\n",
        "else:\n",
        "    print(\"Cannot convert to boolean\")"
      ],
      "metadata": {
        "colab": {
          "base_uri": "https://localhost:8080/"
        },
        "id": "HpGPvz2fByTO",
        "outputId": "d738a238-5d48-4bb0-9e05-202c5af47479"
      },
      "execution_count": 25,
      "outputs": [
        {
          "output_type": "stream",
          "name": "stdout",
          "text": [
            "Enter a value (number or true/false): 123\n",
            "Integer: 123\n",
            "Float: 123.0\n",
            "Cannot convert to boolean\n"
          ]
        }
      ]
    },
    {
      "cell_type": "code",
      "source": [
        "#10 Write code to demonstrate type casting with list elements.\n",
        "\n",
        "# List with mixed types\n",
        "mixed_list = [\"123\", \"45.67\", \"True\", \"89\"]\n",
        "\n",
        "# Convert elements to appropriate types\n",
        "int_value = int(mixed_list[0])\n",
        "float_value = float(mixed_list[1])\n",
        "bool_value = mixed_list[2].lower() == \"true\"\n",
        "str_value = str(mixed_list[3])\n",
        "\n",
        "print(f\"Original list: {mixed_list}\")\n",
        "print(f\"Converted to int: {int_value}, type: {type(int_value)}\")\n",
        "print(f\"Converted to float: {float_value}, type: {type(float_value)}\")\n",
        "print(f\"Converted to bool: {bool_value}, type: {type(bool_value)}\")\n",
        "print(f\"Converted to str: {str_value}, type: {type(str_value)}\")"
      ],
      "metadata": {
        "colab": {
          "base_uri": "https://localhost:8080/"
        },
        "id": "HbkNAwgBCFAq",
        "outputId": "f4b0ec7a-5fb3-4545-9c07-3fa8da4ce9ec"
      },
      "execution_count": 26,
      "outputs": [
        {
          "output_type": "stream",
          "name": "stdout",
          "text": [
            "Original list: ['123', '45.67', 'True', '89']\n",
            "Converted to int: 123, type: <class 'int'>\n",
            "Converted to float: 45.67, type: <class 'float'>\n",
            "Converted to bool: True, type: <class 'bool'>\n",
            "Converted to str: 89, type: <class 'str'>\n"
          ]
        }
      ]
    },
    {
      "cell_type": "code",
      "source": [
        "#11 Write a program that checks if a number is positive, negative, or zero\n",
        "num = float(input(\"Enter a number: \"))\n",
        "if num > 0:\n",
        "    print(\"The number is positive\")\n",
        "elif num < 0:\n",
        "    print(\"The number is negative\")\n",
        "else:\n",
        "    print(\"The number is zero\")"
      ],
      "metadata": {
        "colab": {
          "base_uri": "https://localhost:8080/"
        },
        "id": "TzUn5yf5CdXk",
        "outputId": "f4e58b03-bf61-45da-ba3b-203d41d77f6d"
      },
      "execution_count": 27,
      "outputs": [
        {
          "output_type": "stream",
          "name": "stdout",
          "text": [
            "Enter a number: 12.21\n",
            "The number is positive\n"
          ]
        }
      ]
    },
    {
      "cell_type": "code",
      "source": [
        "#12 Write a for loop to print numbers from 1 to 10.\n",
        "\n",
        "for i in range(1, 11):\n",
        "    print(i, end=\" \")"
      ],
      "metadata": {
        "colab": {
          "base_uri": "https://localhost:8080/"
        },
        "id": "8-Fs22BeCiC9",
        "outputId": "90d59ff6-8ae1-452f-c13b-9096a7066571"
      },
      "execution_count": 28,
      "outputs": [
        {
          "output_type": "stream",
          "name": "stdout",
          "text": [
            "1 2 3 4 5 6 7 8 9 10 "
          ]
        }
      ]
    },
    {
      "cell_type": "code",
      "source": [
        "#13 Write a Python program to find the sum of all even numbers between 1 and 50.\n",
        "even_sum = 0\n",
        "for i in range(1, 51):\n",
        "    if i % 2 == 0:\n",
        "        even_sum += i\n",
        "print(f\"Sum of even numbers between 1 and 50: {even_sum}\")"
      ],
      "metadata": {
        "colab": {
          "base_uri": "https://localhost:8080/"
        },
        "id": "asx34tgECwaC",
        "outputId": "503d8697-0f28-4af1-fc8c-b74b016cd562"
      },
      "execution_count": 29,
      "outputs": [
        {
          "output_type": "stream",
          "name": "stdout",
          "text": [
            "Sum of even numbers between 1 and 50: 650\n"
          ]
        }
      ]
    },
    {
      "cell_type": "code",
      "source": [
        "#14 Write a program to reverse a string using a while loop.\n",
        "\n",
        "input_string = input(\"Enter a string to reverse: \")\n",
        "reversed_string = \"\"\n",
        "index = len(input_string) - 1\n",
        "\n",
        "while index >= 0:\n",
        "    reversed_string += input_string[index]\n",
        "    index -= 1\n",
        "\n",
        "print(f\"Reversed string: {reversed_string}\")"
      ],
      "metadata": {
        "colab": {
          "base_uri": "https://localhost:8080/"
        },
        "id": "2OOiTwz3C2oJ",
        "outputId": "a92d753b-07bc-4706-807c-0c4e439cf8b2"
      },
      "execution_count": 30,
      "outputs": [
        {
          "output_type": "stream",
          "name": "stdout",
          "text": [
            "Enter a string to reverse: komal\n",
            "Reversed string: lamok\n"
          ]
        }
      ]
    },
    {
      "cell_type": "code",
      "source": [
        "#15 Write a Python program to calculate the factorial of a number provided by the user using a while loop\n",
        "num = int(input(\"Enter a number to calculate factorial: \"))\n",
        "if num < 0:\n",
        "    print(\"Factorial is not defined for negative numbers\")\n",
        "else:\n",
        "    factorial = 1\n",
        "    i = num\n",
        "    while i > 0:\n",
        "        factorial *= i\n",
        "        i -= 1\n",
        "    print(f\"Factorial of {num} is {factorial}\")"
      ],
      "metadata": {
        "id": "tRRgGRsADDCS"
      },
      "execution_count": null,
      "outputs": []
    },
    {
      "cell_type": "code",
      "source": [],
      "metadata": {
        "id": "oGoQJw4tDNQz"
      },
      "execution_count": null,
      "outputs": []
    }
  ]
}