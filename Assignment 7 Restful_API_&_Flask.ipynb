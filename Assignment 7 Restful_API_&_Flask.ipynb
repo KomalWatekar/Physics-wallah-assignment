{
  "nbformat": 4,
  "nbformat_minor": 0,
  "metadata": {
    "colab": {
      "provenance": []
    },
    "kernelspec": {
      "name": "python3",
      "display_name": "Python 3"
    },
    "language_info": {
      "name": "python"
    }
  },
  "cells": [
    {
      "cell_type": "markdown",
      "source": [
        "# Therotical questions"
      ],
      "metadata": {
        "id": "G1MaeH6t32cm"
      }
    },
    {
      "cell_type": "markdown",
      "metadata": {
        "id": "9098f711"
      },
      "source": [
        "Theoretical Questions\n",
        "1. What is a RESTful API?   \n",
        "A RESTful API (Representational State Transfer API) is a web service that uses HTTP methods to perform CRUD (Create, Read, Update, Delete) operations on resources identified by URLs. It is stateless, uses standard HTTP protocols, and returns data typically in JSON or XML format.\n",
        "\n",
        "2. Explain the concept of API specification.    \n",
        "API specification defines the structure, endpoints, request/response formats, methods, and authentication mechanisms of an API. It acts as a contract between the API provider and consumer, ensuring consistent expectations.\n",
        "\n",
        "3. What is Flask, and why is it popular for building APIs?    \n",
        "Flask is a lightweight Python web framework used for building web applications and APIs. It’s popular because it is simple, flexible, minimalistic, and has great extensions for adding functionality.\n",
        "\n",
        "4. What is routing in Flask?    \n",
        "Routing is the process of mapping URLs to Python functions (called view functions or handlers) that handle requests at those URLs.\n",
        "\n",
        "5. How do you create a simple Flask application?    \n",
        "By importing Flask, creating an app instance, defining route functions, and running the app — meaning creating a minimal server that listens for incoming requests.\n",
        "\n",
        "6. What are HTTP methods used in RESTful APIs?    \n",
        "GET: Retrieve data\n",
        "POST: Create new data\n",
        "PUT/PATCH: Update existing data\n",
        "DELETE: Remove data\n",
        "\n",
        "7. What is the purpose of the @app.route() decorator in Flask?    \n",
        "It binds a URL endpoint to a Python function so that when the URL is accessed, the function executes.\n",
        "\n",
        "8. What is the difference between GET and POST HTTP methods?    \n",
        "GET requests retrieve data and are idempotent and safe.\n",
        "POST requests submit data to the server, causing a change (like creating resources), and are not idempotent.\n",
        "9. How do you handle errors in Flask APIs?    \n",
        "By using error handlers with @app.errorhandler() decorator or by returning custom JSON error responses with appropriate HTTP status codes.\n",
        "\n",
        "10. How do you connect Flask to a SQL database?   \n",
        "By using an ORM like SQLAlchemy or using raw database drivers with Flask extensions, and configuring connection details in the app config.\n",
        "\n",
        "11. What is the role of Flask-SQLAlchemy?   \n",
        "It integrates SQLAlchemy ORM with Flask, simplifying database interactions by abstracting SQL into Python objects.\n",
        "\n",
        "12. What are Flask blueprints, and how are they useful?   \n",
        "Blueprints are components that allow you to organize your Flask app into modular parts, each containing routes, templates, static files, etc., useful for large applications.\n",
        "\n",
        "13. What is the purpose of Flask's request object?    \n",
        "It represents the incoming HTTP request, giving access to request data like form inputs, JSON data, headers, etc.\n",
        "\n",
        "14. How do you create a RESTful API endpoint using Flask?   \n",
        "By defining route functions with @app.route() and handling HTTP methods like GET, POST, and returning JSON responses.\n",
        "\n",
        "15. What is the purpose of Flask's jsonify() function?    \n",
        "It converts Python dictionaries or lists into JSON-formatted HTTP responses with correct content-type headers.\n",
        "\n",
        "16. Explain Flask's url_for() function.   \n",
        "It generates URLs for a given route function name, handling dynamic URL building and avoiding hardcoded paths.\n",
        "\n",
        "17. How does Flask handle static files (CSS, JavaScript, etc.)?   \n",
        "Flask serves static files from a special /static folder accessible via the /static/ URL prefix.\n",
        "\n",
        "18. What is an API specification, and how does it help in building a Flask API?     \n",
        "See #2. It helps by defining the endpoints, expected inputs, and outputs clearly, aiding consistent API design, documentation, and client integration.\n",
        "\n",
        "19. What are HTTP status codes, and why are they important in a Flask API?    \n",
        "Status codes communicate the result of a request (success, client error, server error). They help clients understand what happened and respond appropriately.\n",
        "\n",
        "20. How do you handle POST requests in Flask?   \n",
        "By defining a route that accepts POST methods and accessing the data via request.form for form data or request.json for JSON payloads.\n",
        "\n",
        "21. How would you secure a Flask API?   \n",
        "Using HTTPS, implementing authentication (API keys, OAuth, JWT), validating inputs, rate limiting, and protecting against common attacks (e.g., CSRF, injection).\n",
        "\n",
        "22. What is the significance of the Flask-RESTful extension?    \n",
        "It simplifies building REST APIs by providing resource classes, request parsing, automated routing, and HTTP method handling.\n",
        "\n",
        "23. What is the role of Flask's session object?     \n",
        "The session object allows you to store data specific to a user across requests (using secure cookies by default), useful for maintaining user state."
      ]
    },
    {
      "cell_type": "markdown",
      "source": [
        "# practical questions"
      ],
      "metadata": {
        "id": "YaYmMV9i66YT"
      }
    },
    {
      "cell_type": "code",
      "source": [
        "#1. How do you create a basic Flask application?\n",
        "\n",
        "from flask import Flask\n",
        "\n",
        "app = Flask(__name__)\n",
        "\n",
        "@app.route('/')\n",
        "def hello():\n",
        "    return \"Hello, Flask!\"\n",
        "\n",
        "if __name__ == '__main__':\n",
        "    app.run(debug=True)"
      ],
      "metadata": {
        "id": "NtiV5gvC7Td_"
      },
      "execution_count": 1,
      "outputs": []
    },
    {
      "cell_type": "code",
      "source": [
        "#2. How do you serve static files like images or CSS in Flask?\n",
        "Place files inside the static/ folder. Example URL: /static/style.css\n",
        "\n",
        "Example HTML to use static CSS:\n",
        "\n",
        "html\n",
        "<link rel=\"stylesheet\" href=\"{{ url_for('static', filename='style.css') }}\">"
      ],
      "metadata": {
        "id": "NuDLBbVa7b--"
      },
      "execution_count": null,
      "outputs": []
    },
    {
      "cell_type": "code",
      "source": [
        "#3. How do you define different routes with different HTTP methods in Flask?\n",
        "\n",
        "from flask import request\n",
        "\n",
        "@app.route('/data', methods=['GET', 'POST'])\n",
        "def data():\n",
        "    if request.method == 'POST':\n",
        "        return \"Received POST\"\n",
        "    else:\n",
        "        return \"Received GET\""
      ],
      "metadata": {
        "id": "SBvHu23h7pkr"
      },
      "execution_count": null,
      "outputs": []
    },
    {
      "cell_type": "code",
      "source": [
        "#4. How do you render HTML templates in Flask?\n",
        "\n",
        "from flask import render_template\n",
        "\n",
        "@app.route('/welcome')\n",
        "def welcome():\n",
        "    return render_template('welcome.html', name='User')"
      ],
      "metadata": {
        "id": "bZ1mL7xlILjY"
      },
      "execution_count": null,
      "outputs": []
    },
    {
      "cell_type": "code",
      "source": [
        "#5. How can you generate URLs for routes in Flask using url_for?\n",
        "\n",
        "from flask import url_for\n",
        "\n",
        "@app.route('/')\n",
        "def index():\n",
        "    login_url = url_for('login')\n",
        "    return f'Go to login <a href=\"{login_url}\">here</a>'\n",
        "\n",
        "@app.route('/login')\n",
        "def login():\n",
        "    return \"Login Page\""
      ],
      "metadata": {
        "id": "dezlCoYsIle6"
      },
      "execution_count": null,
      "outputs": []
    },
    {
      "cell_type": "code",
      "source": [
        "#6. How do you handle forms in Flask?\n",
        "\n",
        "from flask import request\n",
        "\n",
        "@app.route('/submit', methods=['GET', 'POST'])\n",
        "def submit():\n",
        "    if request.method == 'POST':\n",
        "        username = request.form['username']\n",
        "        return f\"Hello, {username}!\"\n",
        "    return '''\n",
        "        <form method=\"POST\">\n",
        "            <input name=\"username\" />\n",
        "            <input type=\"submit\" />\n",
        "        </form>\n",
        "    '''"
      ],
      "metadata": {
        "id": "zCGwj3V5IyNI"
      },
      "execution_count": null,
      "outputs": []
    },
    {
      "cell_type": "code",
      "source": [
        "#7. How can you validate form data in Flask?\n",
        "\n",
        "@app.route('/submit', methods=['POST'])\n",
        "def submit():\n",
        "    username = request.form.get('username', '')\n",
        "    if not username:\n",
        "        return \"Username is required\", 400\n",
        "    return f\"Hello, {username}!\""
      ],
      "metadata": {
        "id": "I9tgfv-EI__v"
      },
      "execution_count": null,
      "outputs": []
    },
    {
      "cell_type": "code",
      "source": [
        "#8. How do you manage sessions in Flask?\n",
        "\n",
        "from flask import session\n",
        "\n",
        "app.secret_key = 'your_secret_key'\n",
        "\n",
        "@app.route('/set_session')\n",
        "def set_session():\n",
        "    session['user'] = 'Alice'\n",
        "    return 'Session set'\n",
        "\n",
        "@app.route('/get_session')\n",
        "def get_session():\n",
        "    user = session.get('user', 'Guest')\n",
        "    return f'Hello, {user}!'"
      ],
      "metadata": {
        "id": "ELo6k7AFJN-r"
      },
      "execution_count": null,
      "outputs": []
    },
    {
      "cell_type": "code",
      "source": [
        "#9. How do you redirect to a different route in Flask?\n",
        "\n",
        "from flask import redirect, url_for\n",
        "\n",
        "@app.route('/go-home')\n",
        "def go_home():\n",
        "    return redirect(url_for('index'))"
      ],
      "metadata": {
        "id": "C8tu6xQwJYtZ"
      },
      "execution_count": null,
      "outputs": []
    },
    {
      "cell_type": "code",
      "source": [
        "#10. How do you handle errors in Flask (e.g., 404)?\n",
        "\n",
        "@app.errorhandler(404)\n",
        "def not_found(e):\n",
        "    return \"Page not found\", 404"
      ],
      "metadata": {
        "id": "0kz23XQSJhiw"
      },
      "execution_count": null,
      "outputs": []
    },
    {
      "cell_type": "code",
      "source": [
        "#11. How do you structure a Flask app using Blueprints?\n",
        "\n",
        "from flask import Blueprint\n",
        "\n",
        "bp = Blueprint('admin', __name__, url_prefix='/admin')\n",
        "\n",
        "@bp.route('/')\n",
        "def admin_index():\n",
        "    return \"Admin Page\"\n",
        "\n",
        "# In your main app file:\n",
        "app.register_blueprint(bp)"
      ],
      "metadata": {
        "id": "p8erODMAJ2x1"
      },
      "execution_count": null,
      "outputs": []
    },
    {
      "cell_type": "code",
      "source": [
        "#12. How do you define a custom Jinja filter in Flask?\n",
        "\n",
        "@app.template_filter('reverse')\n",
        "def reverse_filter(s):\n",
        "    return s[::-1]\n",
        "\n",
        "# Usage in template: {{ \"Hello\" | reverse }}"
      ],
      "metadata": {
        "id": "-eGGIr0NKA4L"
      },
      "execution_count": null,
      "outputs": []
    },
    {
      "cell_type": "code",
      "source": [
        "#13. How can you redirect with query parameters in Flask?\n",
        "\n",
        "from flask import redirect, url_for\n",
        "\n",
        "@app.route('/search')\n",
        "def search():\n",
        "    query = \"flask\"\n",
        "    return redirect(url_for('results', q=query))\n",
        "\n",
        "@app.route('/results')\n",
        "def results():\n",
        "    q = request.args.get('q')\n",
        "    return f\"Results for: {q}\""
      ],
      "metadata": {
        "id": "J2hq4yA6KLDK"
      },
      "execution_count": null,
      "outputs": []
    },
    {
      "cell_type": "code",
      "source": [
        "#14. How do you return JSON responses in Flask?\n",
        "\n",
        "from flask import jsonify\n",
        "\n",
        "@app.route('/api/data')\n",
        "def api_data():\n",
        "    data = {'name': 'Alice', 'age': 30}\n",
        "    return jsonify(data)"
      ],
      "metadata": {
        "id": "rmDn_ArKKXrD"
      },
      "execution_count": null,
      "outputs": []
    },
    {
      "cell_type": "code",
      "source": [
        "#15. How do you capture URL parameters in Flask?\n",
        "\n",
        "@app.route('/user/<username>')\n",
        "def show_user(username):\n",
        "    return f'User: {username}'\n",
        "\n",
        "@app.route('/post/<int:post_id>')\n",
        "def show_post(post_id):\n",
        "    return f'Post {post_id}'"
      ],
      "metadata": {
        "id": "smQp2-xnKhjQ"
      },
      "execution_count": null,
      "outputs": []
    }
  ]
}
