{
  "nbformat": 4,
  "nbformat_minor": 0,
  "metadata": {
    "colab": {
      "provenance": [],
      "collapsed_sections": [
        "g6E7IFTmO6DF"
      ]
    },
    "kernelspec": {
      "name": "python3",
      "display_name": "Python 3"
    },
    "language_info": {
      "name": "python"
    }
  },
  "cells": [
    {
      "cell_type": "markdown",
      "source": [
        "# Therotical questions"
      ],
      "metadata": {
        "id": "DXZpcG4qM55z"
      }
    },
    {
      "cell_type": "markdown",
      "source": [
        "Certainly! Here are the answers to your theoretical questions, clearly numbered and aligned:\n",
        "\n",
        "---\n",
        "\n",
        "1. **What is the difference between interpreted and compiled languages?**  \n",
        "   - **Interpreted languages** execute code line-by-line at runtime (e.g., Python), whereas **compiled languages** translate the whole code into machine code before execution (e.g., C, C++).\n",
        "\n",
        "2. **What is exception handling in Python?**  \n",
        "   - Exception handling is a mechanism to handle runtime errors using `try`, `except`, `else`, and `finally` blocks to prevent the program from crashing.\n",
        "\n",
        "3. **What is the purpose of the finally block in exception handling?**  \n",
        "   - The `finally` block contains code that always executes, regardless of whether an exception occurred or not, typically used for cleanup actions.\n",
        "\n",
        "4. **What is logging in Python?**  \n",
        "   - Logging is the process of recording messages, errors, or informational events to a file or console for tracking the program’s execution.\n",
        "\n",
        "5. **What is the significance of the del method in Python?**  \n",
        "   - The `__del__` method is a destructor, called when an object is about to be destroyed, useful for cleanup actions like closing resources.\n",
        "\n",
        "6. **What is the difference between import and from ... import in Python?**  \n",
        "   - `import module` imports the whole module, accessed with module name prefix; `from module import name` imports specific functions/classes directly.\n",
        "\n",
        "7. **How can you handle multiple exceptions in Python?**  \n",
        "   - By specifying multiple exceptions in a single `except` block using a tuple, e.g., `except (TypeError, ValueError):`.\n",
        "\n",
        "8. **What is the purpose of the with statement when handling files in Python?**  \n",
        "   - The `with` statement ensures automatic file closing after its block execution, even if exceptions occur.\n",
        "\n",
        "9. **What is the difference between multithreading and multiprocessing?**  \n",
        "   - Multithreading runs multiple threads within one process sharing memory; multiprocessing runs multiple processes with separate memory spaces.\n",
        "\n",
        "10. **What are the advantages of using logging in a program?**  \n",
        "    - Helps with debugging, monitoring, audit trails, and diagnosing errors without interrupting the program flow.\n",
        "\n",
        "11. **What is memory management in Python?**  \n",
        "    - Memory management involves allocating and deallocating memory to objects automatically to optimize resource use.\n",
        "\n",
        "12. **What are the basic steps involved in exception handling in Python?**  \n",
        "    1. Write `try` block with code that might fail.  \n",
        "    2. Handle errors in `except` block(s).  \n",
        "    3. Optionally include `else` block if no exceptions occur.  \n",
        "    4. Optionally include `finally` block for cleanup.\n",
        "\n",
        "13. **Why is memory management important in Python?**  \n",
        "    - Prevents memory leaks and optimizes performance by efficiently using system memory.\n",
        "\n",
        "14. **What is the role of try and except in exception handling?**  \n",
        "    - `try` contains code that may raise exceptions; `except` handles those exceptions to avoid crashes.\n",
        "\n",
        "15. **How does Python's garbage collection system work?**  \n",
        "    - It automatically reclaims memory by detecting objects no longer referenced and frees their memory, primarily using reference counting and cyclic garbage collector.\n",
        "\n",
        "16. **What is the purpose of the else block in exception handling?**  \n",
        "    - The `else` block runs if no exceptions were raised in the `try` block, useful for code that should run only when everything goes well.\n",
        "\n",
        "17. **What are the common logging levels in Python?**  \n",
        "    - `DEBUG`, `INFO`, `WARNING`, `ERROR`, `CRITICAL`.\n",
        "\n",
        "18. **What is the difference between os.fork() and multiprocessing in Python?**  \n",
        "    - `os.fork()` creates a child process as a copy of the parent in Unix-based systems; `multiprocessing` provides a platform-independent API for creating processes with additional features.\n",
        "\n",
        "19. **What is the importance of closing a file in Python?**  \n",
        "    - Closing a file releases system resources and ensures all buffered data is written to disk.\n",
        "\n",
        "20. **What is the difference between file.read() and file.readline() in Python?**  \n",
        "    - `file.read()` reads the entire file or specified number of bytes; `file.readline()` reads one line at a time.\n",
        "\n",
        "21. **What is the logging module in Python used for?**  \n",
        "    - To provide a flexible framework for emitting log messages from Python programs.\n",
        "\n",
        "22. **What is the os module in Python used for in file handling?**  \n",
        "    - Provides functions to interact with the operating system, such as file and directory manipulation.\n",
        "\n",
        "23. **What are the challenges associated with memory management in Python?**  \n",
        "    - Managing circular references, overhead of automatic memory management, and potential fragmentation.\n",
        "\n",
        "24. **How do you raise an exception manually in Python?**  \n",
        "    - By using the `raise` statement, e.g., `raise ValueError(\"Invalid input\")`.\n",
        "\n",
        "25. **Why is it important to use multithreading in certain applications?**  \n",
        "    - It allows concurrent execution, improving performance especially in I/O-bound or high-latency tasks.\n",
        "\n",
        "\n"
      ],
      "metadata": {
        "id": "i6EmJ6ikUO0T"
      }
    },
    {
      "cell_type": "markdown",
      "source": [
        "# Practical questions\n"
      ],
      "metadata": {
        "id": "g6E7IFTmO6DF"
      }
    },
    {
      "cell_type": "code",
      "source": [
        "#1. How can you open a file for writing in Python and write a string to it?\n",
        "\n",
        "with open('example.txt', 'w') as file:\n",
        "    file.write(\"Hello, this is a sample string written to the file.\")"
      ],
      "metadata": {
        "id": "WJ-IPGSPPBlS"
      },
      "execution_count": 1,
      "outputs": []
    },
    {
      "cell_type": "code",
      "source": [
        "#2. Write a Python program to read the contents of a file and print each line.\n",
        "\n",
        "with open('example.txt', 'r') as file:\n",
        "    for line in file:\n",
        "        print(line, end='')"
      ],
      "metadata": {
        "colab": {
          "base_uri": "https://localhost:8080/"
        },
        "id": "AqFKs_L-PKIc",
        "outputId": "1a62c122-47b9-40ea-d081-ad9daf328154"
      },
      "execution_count": 2,
      "outputs": [
        {
          "output_type": "stream",
          "name": "stdout",
          "text": [
            "Hello, this is a sample string written to the file."
          ]
        }
      ]
    },
    {
      "cell_type": "code",
      "source": [
        "#3. How would you handle a case where the file doesn't exist while trying to open it for reading?\n",
        "\n",
        "try:\n",
        "    with open('nonexistent.txt', 'r') as file:\n",
        "        content = file.read()\n",
        "except FileNotFoundError:\n",
        "    print(\"The file does not exist.\")"
      ],
      "metadata": {
        "colab": {
          "base_uri": "https://localhost:8080/"
        },
        "id": "k3hC3FhjPTc_",
        "outputId": "92ee5b0c-8053-42ae-d9c9-24779930d5a4"
      },
      "execution_count": 3,
      "outputs": [
        {
          "output_type": "stream",
          "name": "stdout",
          "text": [
            "The file does not exist.\n"
          ]
        }
      ]
    },
    {
      "cell_type": "code",
      "source": [
        "#4. Write a Python script that reads from one file and writes its content to another file.\n",
        "try:\n",
        "    with open('source.txt', 'r') as infile:\n",
        "        content = infile.read()\n",
        "    with open('destination.txt', 'w') as outfile:\n",
        "        outfile.write(content)\n",
        "    print(\"Content copied successfully!\")\n",
        "except FileNotFoundError:\n",
        "    print(\"Error: The source file was not found.\")\n",
        "except Exception as e:\n",
        "    print(f\"An error occurred: {e}\")\n"
      ],
      "metadata": {
        "colab": {
          "base_uri": "https://localhost:8080/"
        },
        "id": "VqSasC0RPnY3",
        "outputId": "e87d3ee9-6e42-412d-a752-444c1b823473"
      },
      "execution_count": 7,
      "outputs": [
        {
          "output_type": "stream",
          "name": "stdout",
          "text": [
            "Error: The source file was not found.\n"
          ]
        }
      ]
    },
    {
      "cell_type": "code",
      "source": [
        "#5. How would you catch and handle division by zero error in Python?\n",
        "\n",
        "try:\n",
        "    x = 10 / 0\n",
        "except ZeroDivisionError:\n",
        "    print(\"Cannot divide by zero!\")"
      ],
      "metadata": {
        "colab": {
          "base_uri": "https://localhost:8080/"
        },
        "id": "t7tYf8S0QzWT",
        "outputId": "2b0b61a5-a412-4161-890d-38029890ca32"
      },
      "execution_count": 8,
      "outputs": [
        {
          "output_type": "stream",
          "name": "stdout",
          "text": [
            "Cannot divide by zero!\n"
          ]
        }
      ]
    },
    {
      "cell_type": "code",
      "source": [
        "#6. Write a Python program that logs an error message to a log file when a division by zero exception occurs.\n",
        "\n",
        "import logging\n",
        "\n",
        "logging.basicConfig(filename='error.log', level=logging.ERROR)\n",
        "\n",
        "try:\n",
        "    result = 10 / 0\n",
        "except ZeroDivisionError as e:\n",
        "    logging.error(\"Division by zero error occurred\", exc_info=True)"
      ],
      "metadata": {
        "id": "2DnMkGKpQ9Au"
      },
      "execution_count": null,
      "outputs": []
    },
    {
      "cell_type": "code",
      "source": [
        "#7. How do you log information at different levels (INFO, ERROR, WARNING) in Python using the logging module?\n",
        "\n",
        "import logging\n",
        "\n",
        "logging.basicConfig(filename='app.log', level=logging.DEBUG)\n",
        "\n",
        "logging.info(\"This is an info message.\")\n",
        "logging.warning(\"This is a warning message.\")\n",
        "logging.error(\"This is an error message.\")"
      ],
      "metadata": {
        "colab": {
          "base_uri": "https://localhost:8080/"
        },
        "id": "RFDujQfzRQgX",
        "outputId": "9f899d4e-4a16-457f-ae79-16a66d8dd14c"
      },
      "execution_count": 10,
      "outputs": [
        {
          "output_type": "stream",
          "name": "stderr",
          "text": [
            "WARNING:root:This is a warning message.\n",
            "ERROR:root:This is an error message.\n"
          ]
        }
      ]
    },
    {
      "cell_type": "code",
      "source": [
        "#8. Write a program to handle a file opening error using exception handling.\n",
        "\n",
        "try:\n",
        "    with open('file_that_might_not_exist.txt', 'r') as file:\n",
        "        data = file.read()\n",
        "except FileNotFoundError:\n",
        "    print(\"File not found. Please check the filename and try again.\")"
      ],
      "metadata": {
        "colab": {
          "base_uri": "https://localhost:8080/"
        },
        "id": "GwyRgITZRUMp",
        "outputId": "a8f1bf9f-4593-4b9b-a33b-8e081a5fcc8f"
      },
      "execution_count": 11,
      "outputs": [
        {
          "output_type": "stream",
          "name": "stdout",
          "text": [
            "File not found. Please check the filename and try again.\n"
          ]
        }
      ]
    },
    {
      "cell_type": "code",
      "source": [
        "#9. How can you read a file line by line and store its content in a list in Python?\n",
        "\n",
        "lines = []\n",
        "with open('example.txt', 'r') as file:\n",
        "    for line in file:\n",
        "        lines.append(line.rstrip('\\n'))\n",
        "\n",
        "print(lines)"
      ],
      "metadata": {
        "colab": {
          "base_uri": "https://localhost:8080/"
        },
        "id": "wtEiVrwsRans",
        "outputId": "1d935395-ad55-47da-d5bf-1923fa41ea43"
      },
      "execution_count": 12,
      "outputs": [
        {
          "output_type": "stream",
          "name": "stdout",
          "text": [
            "['Hello, this is a sample string written to the file.']\n"
          ]
        }
      ]
    },
    {
      "cell_type": "code",
      "source": [
        "#10. How can you append data to an existing file in Python?\n",
        "\n",
        "with open('example.txt', 'a') as file:\n",
        "    file.write(\"\\nThis line is appended.\")"
      ],
      "metadata": {
        "id": "uGRxHEsORgCk"
      },
      "execution_count": 13,
      "outputs": []
    },
    {
      "cell_type": "code",
      "source": [
        "#11. Write a Python program that uses a try-except block to handle an error when attempting to access a dictionary key that doesn't exist.\n",
        "\n",
        "my_dict = {'name': 'Alice', 'age': 25}\n",
        "\n",
        "try:\n",
        "    print(my_dict['address'])\n",
        "except KeyError:\n",
        "    print(\"Key not found in the dictionary.\")"
      ],
      "metadata": {
        "colab": {
          "base_uri": "https://localhost:8080/"
        },
        "id": "oFTyOCpkRkv0",
        "outputId": "bff119e3-ae27-4423-c555-b519b72ca55b"
      },
      "execution_count": 14,
      "outputs": [
        {
          "output_type": "stream",
          "name": "stdout",
          "text": [
            "Key not found in the dictionary.\n"
          ]
        }
      ]
    },
    {
      "cell_type": "code",
      "source": [
        "#12. Write a program that demonstrates using multiple except blocks to handle different types of exceptions.\n",
        "\n",
        "try:\n",
        "    value = int(input(\"Enter a number: \"))\n",
        "    result = 10 / value\n",
        "except ValueError:\n",
        "    print(\"Invalid input. Please enter a numeric value.\")\n",
        "except ZeroDivisionError:\n",
        "    print(\"Cannot divide by zero.\")"
      ],
      "metadata": {
        "colab": {
          "base_uri": "https://localhost:8080/"
        },
        "id": "sRPFqMDXRsF2",
        "outputId": "66268011-ddba-4999-fd21-bd5bfefc4c7f"
      },
      "execution_count": 16,
      "outputs": [
        {
          "name": "stdout",
          "output_type": "stream",
          "text": [
            "Enter a number: 11\n"
          ]
        }
      ]
    },
    {
      "cell_type": "code",
      "source": [
        "#13. How would you check if a file exists before attempting to read it in Python?\n",
        "\n",
        "import os\n",
        "\n",
        "if os.path.exists('example.txt'):\n",
        "    with open('example.txt', 'r') as file:\n",
        "        print(file.read())\n",
        "else:\n",
        "    print(\"File does not exist.\")"
      ],
      "metadata": {
        "colab": {
          "base_uri": "https://localhost:8080/"
        },
        "id": "fhL8ofFXRwQ1",
        "outputId": "f4572ba0-a061-4e32-8ee3-b56f097f5532"
      },
      "execution_count": 17,
      "outputs": [
        {
          "output_type": "stream",
          "name": "stdout",
          "text": [
            "Hello, this is a sample string written to the file.\n",
            "This line is appended.\n"
          ]
        }
      ]
    },
    {
      "cell_type": "code",
      "source": [
        "#14. Write a program that uses the logging module to log both informational and error messages.\n",
        "\n",
        "import logging\n",
        "\n",
        "logging.basicConfig(filename='app.log', level=logging.DEBUG)\n",
        "\n",
        "logging.info(\"This is an informational message.\")\n",
        "try:\n",
        "    x = 5 / 0\n",
        "except ZeroDivisionError:\n",
        "    logging.error(\"An error occurred: Division by zero.\")"
      ],
      "metadata": {
        "colab": {
          "base_uri": "https://localhost:8080/"
        },
        "id": "n6MAjufeSAQy",
        "outputId": "21fd9fdb-407e-4430-8c8b-08b19c4bfa0e"
      },
      "execution_count": 18,
      "outputs": [
        {
          "output_type": "stream",
          "name": "stderr",
          "text": [
            "ERROR:root:An error occurred: Division by zero.\n"
          ]
        }
      ]
    },
    {
      "cell_type": "code",
      "source": [
        "#15. Write a Python program that prints the content of a file and handles the case when the file is empty.\n",
        "\n",
        "with open('example.txt', 'r') as file:\n",
        "    content = file.read()\n",
        "    if content:\n",
        "        print(content)\n",
        "    else:\n",
        "        print(\"The file is empty.\")"
      ],
      "metadata": {
        "colab": {
          "base_uri": "https://localhost:8080/"
        },
        "id": "gKkxAKJBSEIs",
        "outputId": "4ec6aabf-c7b7-4c2e-c4c8-95bfdc48cee1"
      },
      "execution_count": 19,
      "outputs": [
        {
          "output_type": "stream",
          "name": "stdout",
          "text": [
            "Hello, this is a sample string written to the file.\n",
            "This line is appended.\n"
          ]
        }
      ]
    },
    {
      "cell_type": "code",
      "source": [
        "#16. Demonstrate how to use memory profiling to check the memory usage of a small program.\n",
        "\n",
        "from memory_profiler import profile\n",
        "\n",
        "@profile\n",
        "def my_function():\n",
        "    a = [i for i in range(100000)]\n",
        "    return a\n",
        "\n",
        "if __name__ == '__main__':\n",
        "    my_function()"
      ],
      "metadata": {
        "id": "oQfaLZKASOYr"
      },
      "execution_count": null,
      "outputs": []
    },
    {
      "cell_type": "code",
      "source": [
        "#17. Write a Python program to create and write a list of numbers to a file, one number per line.\n",
        "\n",
        "numbers = [1, 2, 3, 4, 5]\n",
        "\n",
        "with open('numbers.txt', 'w') as file:\n",
        "    for number in numbers:\n",
        "        file.write(f\"{number}\\n\")"
      ],
      "metadata": {
        "id": "Tmfh7T6cSYf1"
      },
      "execution_count": 21,
      "outputs": []
    },
    {
      "cell_type": "code",
      "source": [
        "#18. How would you implement a basic logging setup that logs to a file with rotation after 1MB?\n",
        "\n",
        "import logging\n",
        "from logging.handlers import RotatingFileHandler\n",
        "\n",
        "logger = logging.getLogger('MyLogger')\n",
        "logger.setLevel(logging.DEBUG)\n",
        "\n",
        "handler = RotatingFileHandler('rotating.log', maxBytes=1_000_000, backupCount=3)\n",
        "logger.addHandler(handler)\n",
        "\n",
        "logger.info(\"This is a log message.\")"
      ],
      "metadata": {
        "colab": {
          "base_uri": "https://localhost:8080/"
        },
        "id": "ORvZhJqXSc7r",
        "outputId": "6ea14509-3f65-4279-b268-eb7ab40e23fa"
      },
      "execution_count": 22,
      "outputs": [
        {
          "output_type": "stream",
          "name": "stderr",
          "text": [
            "INFO:MyLogger:This is a log message.\n"
          ]
        }
      ]
    },
    {
      "cell_type": "code",
      "source": [
        "#19. Write a program that handles both IndexError and KeyError using a try-except block.\n",
        "\n",
        "my_list = [10, 20, 30]\n",
        "my_dict = {'a': 1, 'b': 2}\n",
        "\n",
        "try:\n",
        "    print(my_list[5])\n",
        "    print(my_dict['c'])\n",
        "except IndexError:\n",
        "    print(\"List index out of range.\")\n",
        "except KeyError:\n",
        "    print(\"Dictionary key not found.\")"
      ],
      "metadata": {
        "colab": {
          "base_uri": "https://localhost:8080/"
        },
        "id": "iooXWRpISiwl",
        "outputId": "885f7e4d-5dc1-4066-c732-9eb167795bd5"
      },
      "execution_count": 24,
      "outputs": [
        {
          "output_type": "stream",
          "name": "stdout",
          "text": [
            "List index out of range.\n"
          ]
        }
      ]
    },
    {
      "cell_type": "code",
      "source": [
        "#20. How would you open a file and read its contents using a context manager in Python?\n",
        "\n",
        "with open('example.txt', 'r') as file:\n",
        "    content = file.read()\n",
        "    print(content)"
      ],
      "metadata": {
        "colab": {
          "base_uri": "https://localhost:8080/"
        },
        "id": "w_dtf0vjSqdi",
        "outputId": "8ac74882-58a6-4311-95f8-66a3dadee7a0"
      },
      "execution_count": 25,
      "outputs": [
        {
          "output_type": "stream",
          "name": "stdout",
          "text": [
            "Hello, this is a sample string written to the file.\n",
            "This line is appended.\n"
          ]
        }
      ]
    },
    {
      "cell_type": "code",
      "source": [
        "#21. Write a Python program that reads a file and prints the number of occurrences of a specific word.\n",
        "\n",
        "word_to_count = 'python'\n",
        "count = 0\n",
        "\n",
        "with open('example.txt', 'r') as file:\n",
        "    for line in file:\n",
        "        count += line.lower().split().count(word_to_count.lower())\n",
        "\n",
        "print(f\"The word '{word_to_count}' occurs {count} times in the file.\")"
      ],
      "metadata": {
        "colab": {
          "base_uri": "https://localhost:8080/"
        },
        "id": "_PDnEQvMS3hm",
        "outputId": "0778cf67-d95d-4c24-f9d7-42d103fdbd57"
      },
      "execution_count": 26,
      "outputs": [
        {
          "output_type": "stream",
          "name": "stdout",
          "text": [
            "The word 'python' occurs 0 times in the file.\n"
          ]
        }
      ]
    },
    {
      "cell_type": "code",
      "source": [
        "#22. How can you check if a file is empty before attempting to read its contents?\n",
        "\n",
        "import os\n",
        "\n",
        "file_path = 'example.txt'\n",
        "if os.path.exists(file_path) and os.path.getsize(file_path) > 0:\n",
        "    with open(file_path, 'r') as file:\n",
        "        print(file.read())\n",
        "else:\n",
        "    print(\"File is empty or does not exist.\")"
      ],
      "metadata": {
        "colab": {
          "base_uri": "https://localhost:8080/"
        },
        "id": "sPQcBH8WS8mO",
        "outputId": "b44498da-db08-4237-9caf-df6e27f50866"
      },
      "execution_count": 27,
      "outputs": [
        {
          "output_type": "stream",
          "name": "stdout",
          "text": [
            "Hello, this is a sample string written to the file.\n",
            "This line is appended.\n"
          ]
        }
      ]
    },
    {
      "cell_type": "code",
      "source": [
        "#23. Write a Python program that writes to a log file when an error occurs during file handling.\n",
        "\n",
        "import logging\n",
        "\n",
        "logging.basicConfig(filename='file_errors.log', level=logging.ERROR)\n",
        "\n",
        "try:\n",
        "    with open('nonexistent_file.txt', 'r') as file:\n",
        "        data = file.read()\n",
        "except Exception as e:\n",
        "    logging.error(\"File handling error: %s\", e)"
      ],
      "metadata": {
        "colab": {
          "base_uri": "https://localhost:8080/"
        },
        "id": "Vs9Zxl9zTBGB",
        "outputId": "1375facf-a213-402e-d500-4237b1c518c8"
      },
      "execution_count": 28,
      "outputs": [
        {
          "output_type": "stream",
          "name": "stderr",
          "text": [
            "ERROR:root:File handling error: [Errno 2] No such file or directory: 'nonexistent_file.txt'\n"
          ]
        }
      ]
    },
    {
      "cell_type": "code",
      "source": [],
      "metadata": {
        "id": "iRxS4vXPTFqG"
      },
      "execution_count": null,
      "outputs": []
    }
  ]
}